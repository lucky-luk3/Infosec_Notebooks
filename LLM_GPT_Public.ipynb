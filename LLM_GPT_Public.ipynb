{
 "cells": [
  {
   "cell_type": "markdown",
   "id": "263babd4-2dd6-4382-9046-49d71e6709c5",
   "metadata": {},
   "source": [
    "# Simple form to interact with GPT"
   ]
  },
  {
   "cell_type": "code",
   "execution_count": null,
   "id": "2c311cff-5781-4e39-8585-250f3cb4d000",
   "metadata": {},
   "outputs": [],
   "source": [
    "import os\n",
    "import openai\n",
    "\n",
    "openai.api_key  = '<your APIKEY>'"
   ]
  },
  {
   "cell_type": "code",
   "execution_count": null,
   "id": "87496239-fa82-42c6-99cd-74a5f83be871",
   "metadata": {},
   "outputs": [],
   "source": [
    "import panel as pn  # GUI\n",
    "pn.extension()\n",
    "\n",
    "panels = [] # collect display "
   ]
  },
  {
   "cell_type": "code",
   "execution_count": null,
   "id": "8faf02da-aa86-4620-8dd6-e16252f67bc9",
   "metadata": {},
   "outputs": [],
   "source": [
    "def get_completion(_):\n",
    "    prompt = f\"Context: {context.value_input} \\n Question: {inp.value_input}\"\n",
    "    messages = [{\"role\": \"user\", \"content\": prompt}]\n",
    "    response = openai.ChatCompletion.create(\n",
    "    model=\"gpt-3.5-turbo\",\n",
    "    messages=messages,\n",
    "    temperature=0) # this is the degree of randomness of the model's output\n",
    "    \n",
    "    response = response.choices[0].message[\"content\"]\n",
    "    inp.value = ''\n",
    "    panels.append(\n",
    "        pn.Row('User:', pn.pane.Markdown(prompt, width=600)))\n",
    "    panels.append(\n",
    "        pn.Row('Assistant:', pn.pane.Markdown(response, width=600, style={'background-color': '#F6F6F6'})))\n",
    " \n",
    "    return pn.Column(*panels)"
   ]
  },
  {
   "cell_type": "markdown",
   "id": "efe5642d-b761-49ae-b152-244716687dd8",
   "metadata": {},
   "source": [
    "## Context"
   ]
  },
  {
   "cell_type": "code",
   "execution_count": null,
   "id": "1da6c04a-62b6-4351-80c8-d2bd52f11e80",
   "metadata": {},
   "outputs": [],
   "source": [
    "context = pn.widgets.TextAreaInput(name='Context', placeholder='Put here your context')\n",
    "context"
   ]
  },
  {
   "cell_type": "markdown",
   "id": "16f55917-032c-4367-9791-6f3c2b4840af",
   "metadata": {},
   "source": [
    "## Form"
   ]
  },
  {
   "cell_type": "code",
   "execution_count": null,
   "id": "d2f556ec-418d-4665-82bb-b0c8b2674b11",
   "metadata": {
    "tags": []
   },
   "outputs": [],
   "source": [
    "inp = pn.widgets.TextInput(value=\"Hi\", placeholder='How can I help you?')\n",
    "button_conversation = pn.widgets.Button(name=\"Chat!\")\n",
    "\n",
    "interactive_conversation = pn.bind(get_completion, button_conversation)\n",
    "\n",
    "dashboard = pn.Column(\n",
    "    inp,\n",
    "    pn.Row(button_conversation),\n",
    "    pn.panel(interactive_conversation, loading_indicator=True, height=300),\n",
    ")\n",
    "\n",
    "dashboard"
   ]
  }
 ],
 "metadata": {
  "kernelspec": {
   "display_name": "Python 3",
   "language": "python",
   "name": "python3"
  },
  "language_info": {
   "codemirror_mode": {
    "name": "ipython",
    "version": 3
   },
   "file_extension": ".py",
   "mimetype": "text/x-python",
   "name": "python",
   "nbconvert_exporter": "python",
   "pygments_lexer": "ipython3",
   "version": "3.8.2"
  }
 },
 "nbformat": 4,
 "nbformat_minor": 5
}
