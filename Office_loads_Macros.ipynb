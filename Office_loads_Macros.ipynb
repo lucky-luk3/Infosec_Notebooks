{
 "cells": [
  {
   "cell_type": "markdown",
   "id": "25653387-3a7e-4dc0-8bc5-b1cbdb329d5f",
   "metadata": {},
   "source": [
    "# Auditing Office Macros"
   ]
  },
  {
   "cell_type": "markdown",
   "id": "4110e4e2-0885-4237-bb99-6fe21dae3eea",
   "metadata": {},
   "source": [
    "### Requirements"
   ]
  },
  {
   "cell_type": "code",
   "execution_count": null,
   "id": "cdaca7de-2f78-448d-93dd-c5eb8d6b255b",
   "metadata": {},
   "outputs": [],
   "source": [
    "!pip install evtx"
   ]
  },
  {
   "cell_type": "markdown",
   "id": "bbcc7200-e843-4fb5-9d14-a0c3119baaca",
   "metadata": {},
   "source": [
    "## Parsing EVTX files to Pandas DataFrames"
   ]
  },
  {
   "cell_type": "code",
   "execution_count": 1,
   "id": "ea963189-ee71-416d-b846-25fcd46342ee",
   "metadata": {},
   "outputs": [],
   "source": [
    "from evtx import PyEvtxParser\n",
    "import json\n",
    "import pandas as pd\n",
    "import os"
   ]
  },
  {
   "cell_type": "code",
   "execution_count": 2,
   "id": "e5300aa3-de97-4639-b5d9-e53aef1adf64",
   "metadata": {
    "tags": []
   },
   "outputs": [],
   "source": [
    "def evtx_folder_to_dataframes(directory):\n",
    "    dataframes_list_one_five = {}\n",
    "    dataframes_list_seven = {}\n",
    "\n",
    "    for filename in os.listdir(directory):\n",
    "        f = os.path.join(directory, filename)\n",
    "        if os.path.isfile(f):\n",
    "            events_one_five = []\n",
    "            events_seven = []\n",
    "\n",
    "            a = open(f, 'rb')\n",
    "            parser = PyEvtxParser(a)\n",
    "\n",
    "            for record in parser.records_json():\n",
    "                event = json.loads(record['data'])\n",
    "                #Process creation\n",
    "                if event[\"Event\"][\"System\"][\"EventID\"] == 1:\n",
    "                    event_list = [event[\"Event\"][\"EventData\"][\"UtcTime\"],\n",
    "                    event[\"Event\"][\"System\"][\"EventID\"],\n",
    "                    event[\"Event\"][\"EventData\"][\"ProcessGuid\"],\n",
    "                    event[\"Event\"][\"EventData\"][\"ProcessId\"],\n",
    "                    event[\"Event\"][\"EventData\"][\"Image\"],\n",
    "                    event[\"Event\"][\"EventData\"][\"IntegrityLevel\"],\n",
    "                    event[\"Event\"][\"EventData\"][\"TerminalSessionId\"],\n",
    "                    event[\"Event\"][\"EventData\"][\"User\"]]\n",
    "                    events_one_five.append(event_list)\n",
    "                if event[\"Event\"][\"System\"][\"EventID\"] == 5:\n",
    "                    event_list = [event[\"Event\"][\"EventData\"][\"UtcTime\"],\n",
    "                    event[\"Event\"][\"System\"][\"EventID\"],\n",
    "                    event[\"Event\"][\"EventData\"][\"ProcessGuid\"],\n",
    "                    event[\"Event\"][\"EventData\"][\"ProcessId\"],\n",
    "                    event[\"Event\"][\"EventData\"][\"Image\"],[],[],[]]\n",
    "                    events_one_five.append(event_list)\n",
    "                #Image loaded\n",
    "                if event[\"Event\"][\"System\"][\"EventID\"] == 7:\n",
    "                    event_list = [event[\"Event\"][\"EventData\"][\"UtcTime\"],\n",
    "                    event[\"Event\"][\"System\"][\"EventID\"],\n",
    "                    event[\"Event\"][\"EventData\"][\"ImageLoaded\"],\n",
    "                    event[\"Event\"][\"EventData\"][\"FileVersion\"],\n",
    "                    event[\"Event\"][\"EventData\"][\"Description\"],\n",
    "                    event[\"Event\"][\"EventData\"][\"Product\"],\n",
    "                    event[\"Event\"][\"EventData\"][\"Company\"],\n",
    "                    event[\"Event\"][\"EventData\"][\"OriginalFileName\"],\n",
    "                    event[\"Event\"][\"EventData\"][\"Hashes\"],\n",
    "                    event[\"Event\"][\"EventData\"][\"Signed\"],\n",
    "                    event[\"Event\"][\"EventData\"][\"Signature\"],\n",
    "                    event[\"Event\"][\"EventData\"][\"SignatureStatus\"]]\n",
    "                    events_seven.append(event_list)\n",
    "            name = filename.split(\"\\\\\")[-1].split(\".\")[-2]\n",
    "\n",
    "            df_1_5 = pd.DataFrame.from_records(events_one_five,\n",
    "                                   columns=['UtcTime','EventID', 'ProcessGuid', 'ProcessId', 'Image', \n",
    "                                            'IntegrityLevel', 'TerminalSessionId', 'User'])\n",
    "            df_7 = pd.DataFrame.from_records(events_seven,\n",
    "                                   columns=['UtcTime','EventID', 'ImageLoaded', 'FileVersion', 'Description',\n",
    "                                            'Product', 'Company', 'OriginalFileName', 'Hashes', 'Signed',\n",
    "                                           'Signature', 'SignatureStatus'])\n",
    "            dataframes_list_one_five[name] = df_1_5\n",
    "            dataframes_list_seven[name] = df_7\n",
    "            \n",
    "    return dataframes_list_one_five, dataframes_list_seven"
   ]
  },
  {
   "cell_type": "code",
   "execution_count": 3,
   "id": "2a6e6932-b2ba-439d-b8f3-060576d341c8",
   "metadata": {},
   "outputs": [],
   "source": [
    "directory = r\"E:\\Path\\Macros\\evtx\"\n",
    "dataframes_list_one_five, dataframes_list_seven = evtx_folder_to_dataframes(directory)"
   ]
  },
  {
   "cell_type": "markdown",
   "id": "f00b4ceb-f5bb-43c2-9234-a47fde5f3e6a",
   "metadata": {},
   "source": [
    "## How many libraries loads Office in each execution?"
   ]
  },
  {
   "cell_type": "code",
   "execution_count": 28,
   "id": "90b274b0-0ede-427b-8f93-3d3fcf9ae143",
   "metadata": {},
   "outputs": [],
   "source": [
    "df_count = pd.DataFrame(index=list(dataframes_list_seven.keys()), columns=[\"Count\"])"
   ]
  },
  {
   "cell_type": "code",
   "execution_count": 34,
   "id": "d98f253f-5706-4aad-8b15-877d02eaaa23",
   "metadata": {},
   "outputs": [],
   "source": [
    "for e in list(dataframes_list_seven):\n",
    "    df_count[\"Count\"][e] = dataframes_list_seven[e][\"ImageLoaded\"].nunique()"
   ]
  },
  {
   "cell_type": "code",
   "execution_count": 35,
   "id": "40da50cb-1af4-43ea-9c9f-690ce2edb6f8",
   "metadata": {},
   "outputs": [
    {
     "data": {
      "text/html": [
       "<div>\n",
       "<style scoped>\n",
       "    .dataframe tbody tr th:only-of-type {\n",
       "        vertical-align: middle;\n",
       "    }\n",
       "\n",
       "    .dataframe tbody tr th {\n",
       "        vertical-align: top;\n",
       "    }\n",
       "\n",
       "    .dataframe thead th {\n",
       "        text-align: right;\n",
       "    }\n",
       "</style>\n",
       "<table border=\"1\" class=\"dataframe\">\n",
       "  <thead>\n",
       "    <tr style=\"text-align: right;\">\n",
       "      <th></th>\n",
       "      <th>Count</th>\n",
       "    </tr>\n",
       "  </thead>\n",
       "  <tbody>\n",
       "    <tr>\n",
       "      <th>without_2003_down</th>\n",
       "      <td>198</td>\n",
       "    </tr>\n",
       "    <tr>\n",
       "      <th>without_2003_local</th>\n",
       "      <td>172</td>\n",
       "    </tr>\n",
       "    <tr>\n",
       "      <th>without_xlsm_down</th>\n",
       "      <td>195</td>\n",
       "    </tr>\n",
       "    <tr>\n",
       "      <th>without_xlsm_local</th>\n",
       "      <td>174</td>\n",
       "    </tr>\n",
       "    <tr>\n",
       "      <th>without_xlsx_down</th>\n",
       "      <td>195</td>\n",
       "    </tr>\n",
       "    <tr>\n",
       "      <th>without_xlsx_local</th>\n",
       "      <td>172</td>\n",
       "    </tr>\n",
       "    <tr>\n",
       "      <th>with_2003_down</th>\n",
       "      <td>200</td>\n",
       "    </tr>\n",
       "    <tr>\n",
       "      <th>with_2003_local</th>\n",
       "      <td>178</td>\n",
       "    </tr>\n",
       "    <tr>\n",
       "      <th>with_4_0_xls_local</th>\n",
       "      <td>175</td>\n",
       "    </tr>\n",
       "    <tr>\n",
       "      <th>with_4_xls_local</th>\n",
       "      <td>173</td>\n",
       "    </tr>\n",
       "  </tbody>\n",
       "</table>\n",
       "</div>"
      ],
      "text/plain": [
       "                   Count\n",
       "without_2003_down    198\n",
       "without_2003_local   172\n",
       "without_xlsm_down    195\n",
       "without_xlsm_local   174\n",
       "without_xlsx_down    195\n",
       "without_xlsx_local   172\n",
       "with_2003_down       200\n",
       "with_2003_local      178\n",
       "with_4_0_xls_local   175\n",
       "with_4_xls_local     173"
      ]
     },
     "execution_count": 35,
     "metadata": {},
     "output_type": "execute_result"
    }
   ],
   "source": [
    "df_count"
   ]
  },
  {
   "cell_type": "markdown",
   "id": "477b5bb3-6583-41d4-b0a2-657574dee6c2",
   "metadata": {},
   "source": [
    "## Differences between runs\n",
    "How many libraries are loaded in one execution that are not in the other?"
   ]
  },
  {
   "cell_type": "code",
   "execution_count": 6,
   "id": "d21e7ed0-8478-4010-8435-d517020d3ed9",
   "metadata": {},
   "outputs": [],
   "source": [
    "def compare_df(df_in, df_not_in):\n",
    "    list = df_in.merge(df_not_in.drop_duplicates(), \n",
    "                       on=['ImageLoaded'], \n",
    "                       how='left', \n",
    "                       indicator=True) \n",
    "    list_min = list[list['_merge'] == 'left_only'][\"ImageLoaded\"].unique()\n",
    "    return(list_min)"
   ]
  },
  {
   "cell_type": "code",
   "execution_count": 7,
   "id": "c418bd53-1392-4dc2-9df5-31377f6fb069",
   "metadata": {},
   "outputs": [],
   "source": [
    "df = pd.DataFrame(index=list(dataframes_list_seven.keys()), columns=list(dataframes_list_seven.keys()))"
   ]
  },
  {
   "cell_type": "code",
   "execution_count": 8,
   "id": "23151482-35ac-49a3-877e-2f238781431a",
   "metadata": {},
   "outputs": [],
   "source": [
    "for e in list(dataframes_list_seven.keys()):\n",
    "    for i in list(dataframes_list_seven.keys()):\n",
    "        list_min = compare_df(dataframes_list_seven[e], dataframes_list_seven[i])\n",
    "        df[i][e] = len(list_min)"
   ]
  },
  {
   "cell_type": "code",
   "execution_count": 9,
   "id": "50a53fe9-5998-4d56-bd3b-bc2fe808996b",
   "metadata": {},
   "outputs": [
    {
     "data": {
      "text/html": [
       "<div>\n",
       "<style scoped>\n",
       "    .dataframe tbody tr th:only-of-type {\n",
       "        vertical-align: middle;\n",
       "    }\n",
       "\n",
       "    .dataframe tbody tr th {\n",
       "        vertical-align: top;\n",
       "    }\n",
       "\n",
       "    .dataframe thead th {\n",
       "        text-align: right;\n",
       "    }\n",
       "</style>\n",
       "<table border=\"1\" class=\"dataframe\">\n",
       "  <thead>\n",
       "    <tr style=\"text-align: right;\">\n",
       "      <th></th>\n",
       "      <th>without_2003_down</th>\n",
       "      <th>without_2003_local</th>\n",
       "      <th>without_xlsm_down</th>\n",
       "      <th>without_xlsm_local</th>\n",
       "      <th>without_xlsx_down</th>\n",
       "      <th>without_xlsx_local</th>\n",
       "      <th>with_2003_down</th>\n",
       "      <th>with_2003_local</th>\n",
       "      <th>with_4_0_xls_down</th>\n",
       "      <th>with_4_0_xls_local</th>\n",
       "    </tr>\n",
       "  </thead>\n",
       "  <tbody>\n",
       "    <tr>\n",
       "      <th>without_2003_down</th>\n",
       "      <td>0</td>\n",
       "      <td>26</td>\n",
       "      <td>3</td>\n",
       "      <td>24</td>\n",
       "      <td>3</td>\n",
       "      <td>26</td>\n",
       "      <td>12</td>\n",
       "      <td>20</td>\n",
       "      <td>24</td>\n",
       "      <td>23</td>\n",
       "    </tr>\n",
       "    <tr>\n",
       "      <th>without_2003_local</th>\n",
       "      <td>0</td>\n",
       "      <td>0</td>\n",
       "      <td>1</td>\n",
       "      <td>1</td>\n",
       "      <td>1</td>\n",
       "      <td>1</td>\n",
       "      <td>9</td>\n",
       "      <td>1</td>\n",
       "      <td>11</td>\n",
       "      <td>0</td>\n",
       "    </tr>\n",
       "    <tr>\n",
       "      <th>without_xlsm_down</th>\n",
       "      <td>0</td>\n",
       "      <td>24</td>\n",
       "      <td>0</td>\n",
       "      <td>22</td>\n",
       "      <td>0</td>\n",
       "      <td>23</td>\n",
       "      <td>11</td>\n",
       "      <td>18</td>\n",
       "      <td>21</td>\n",
       "      <td>23</td>\n",
       "    </tr>\n",
       "    <tr>\n",
       "      <th>without_xlsm_local</th>\n",
       "      <td>0</td>\n",
       "      <td>3</td>\n",
       "      <td>1</td>\n",
       "      <td>0</td>\n",
       "      <td>1</td>\n",
       "      <td>2</td>\n",
       "      <td>11</td>\n",
       "      <td>1</td>\n",
       "      <td>12</td>\n",
       "      <td>1</td>\n",
       "    </tr>\n",
       "    <tr>\n",
       "      <th>without_xlsx_down</th>\n",
       "      <td>0</td>\n",
       "      <td>24</td>\n",
       "      <td>0</td>\n",
       "      <td>22</td>\n",
       "      <td>0</td>\n",
       "      <td>23</td>\n",
       "      <td>11</td>\n",
       "      <td>18</td>\n",
       "      <td>21</td>\n",
       "      <td>23</td>\n",
       "    </tr>\n",
       "    <tr>\n",
       "      <th>without_xlsx_local</th>\n",
       "      <td>0</td>\n",
       "      <td>1</td>\n",
       "      <td>0</td>\n",
       "      <td>0</td>\n",
       "      <td>0</td>\n",
       "      <td>0</td>\n",
       "      <td>10</td>\n",
       "      <td>1</td>\n",
       "      <td>11</td>\n",
       "      <td>1</td>\n",
       "    </tr>\n",
       "    <tr>\n",
       "      <th>with_2003_down</th>\n",
       "      <td>1</td>\n",
       "      <td>24</td>\n",
       "      <td>3</td>\n",
       "      <td>24</td>\n",
       "      <td>3</td>\n",
       "      <td>25</td>\n",
       "      <td>0</td>\n",
       "      <td>19</td>\n",
       "      <td>13</td>\n",
       "      <td>22</td>\n",
       "    </tr>\n",
       "    <tr>\n",
       "      <th>with_2003_local</th>\n",
       "      <td>0</td>\n",
       "      <td>7</td>\n",
       "      <td>1</td>\n",
       "      <td>5</td>\n",
       "      <td>1</td>\n",
       "      <td>7</td>\n",
       "      <td>10</td>\n",
       "      <td>0</td>\n",
       "      <td>11</td>\n",
       "      <td>5</td>\n",
       "    </tr>\n",
       "    <tr>\n",
       "      <th>with_4_0_xls_down</th>\n",
       "      <td>0</td>\n",
       "      <td>13</td>\n",
       "      <td>0</td>\n",
       "      <td>12</td>\n",
       "      <td>0</td>\n",
       "      <td>13</td>\n",
       "      <td>0</td>\n",
       "      <td>7</td>\n",
       "      <td>0</td>\n",
       "      <td>12</td>\n",
       "    </tr>\n",
       "    <tr>\n",
       "      <th>with_4_0_xls_local</th>\n",
       "      <td>0</td>\n",
       "      <td>3</td>\n",
       "      <td>3</td>\n",
       "      <td>2</td>\n",
       "      <td>3</td>\n",
       "      <td>4</td>\n",
       "      <td>10</td>\n",
       "      <td>2</td>\n",
       "      <td>13</td>\n",
       "      <td>0</td>\n",
       "    </tr>\n",
       "  </tbody>\n",
       "</table>\n",
       "</div>"
      ],
      "text/plain": [
       "                   without_2003_down without_2003_local without_xlsm_down  \\\n",
       "without_2003_down                  0                 26                 3   \n",
       "without_2003_local                 0                  0                 1   \n",
       "without_xlsm_down                  0                 24                 0   \n",
       "without_xlsm_local                 0                  3                 1   \n",
       "without_xlsx_down                  0                 24                 0   \n",
       "without_xlsx_local                 0                  1                 0   \n",
       "with_2003_down                     1                 24                 3   \n",
       "with_2003_local                    0                  7                 1   \n",
       "with_4_0_xls_down                  0                 13                 0   \n",
       "with_4_0_xls_local                 0                  3                 3   \n",
       "\n",
       "                   without_xlsm_local without_xlsx_down without_xlsx_local  \\\n",
       "without_2003_down                  24                 3                 26   \n",
       "without_2003_local                  1                 1                  1   \n",
       "without_xlsm_down                  22                 0                 23   \n",
       "without_xlsm_local                  0                 1                  2   \n",
       "without_xlsx_down                  22                 0                 23   \n",
       "without_xlsx_local                  0                 0                  0   \n",
       "with_2003_down                     24                 3                 25   \n",
       "with_2003_local                     5                 1                  7   \n",
       "with_4_0_xls_down                  12                 0                 13   \n",
       "with_4_0_xls_local                  2                 3                  4   \n",
       "\n",
       "                   with_2003_down with_2003_local with_4_0_xls_down  \\\n",
       "without_2003_down              12              20                24   \n",
       "without_2003_local              9               1                11   \n",
       "without_xlsm_down              11              18                21   \n",
       "without_xlsm_local             11               1                12   \n",
       "without_xlsx_down              11              18                21   \n",
       "without_xlsx_local             10               1                11   \n",
       "with_2003_down                  0              19                13   \n",
       "with_2003_local                10               0                11   \n",
       "with_4_0_xls_down               0               7                 0   \n",
       "with_4_0_xls_local             10               2                13   \n",
       "\n",
       "                   with_4_0_xls_local  \n",
       "without_2003_down                  23  \n",
       "without_2003_local                  0  \n",
       "without_xlsm_down                  23  \n",
       "without_xlsm_local                  1  \n",
       "without_xlsx_down                  23  \n",
       "without_xlsx_local                  1  \n",
       "with_2003_down                     22  \n",
       "with_2003_local                     5  \n",
       "with_4_0_xls_down                  12  \n",
       "with_4_0_xls_local                  0  "
      ]
     },
     "execution_count": 9,
     "metadata": {},
     "output_type": "execute_result"
    }
   ],
   "source": [
    "df"
   ]
  },
  {
   "cell_type": "markdown",
   "id": "32fcb935-5252-4356-91aa-cc5d10c34b9e",
   "metadata": {},
   "source": [
    "## Comparative menu"
   ]
  },
  {
   "cell_type": "code",
   "execution_count": 17,
   "id": "6a22ace0-7cb9-4e56-a09b-79ab66141260",
   "metadata": {
    "tags": []
   },
   "outputs": [],
   "source": [
    "def compare_events():\n",
    "    import ipywidgets as widgets\n",
    "    from IPython.display import display, Markdown, clear_output\n",
    "    pd.set_option('display.max_rows', 500)\n",
    "    output = widgets.Output()\n",
    "    dfs = list(dataframes_list_seven.keys())\n",
    "    columns = dataframes_list_seven[list(dataframes_list_seven.keys())[0]].columns\n",
    "    in_widget = widgets.Dropdown(\n",
    "                        options=dfs,\n",
    "                        description='Events in:',\n",
    "                        disabled=False)\n",
    "    not_in_widget = widgets.Dropdown(\n",
    "                        options=dfs,\n",
    "                        description='And not in:',\n",
    "                        disabled=False)\n",
    "    columns = widgets.Dropdown(\n",
    "                        options=columns,\n",
    "                        description='Column:',\n",
    "                        disabled=False)\n",
    "    button = widgets.Button(description=f'List')\n",
    "    display(in_widget, not_in_widget, columns, button, output)\n",
    "\n",
    "    def _click_function(_):\n",
    "        with output:\n",
    "            clear_output()\n",
    "            list = dataframes_list_seven[in_widget.value].merge(dataframes_list_seven[not_in_widget.value].drop_duplicates(), \n",
    "                                                          on=['ImageLoaded'], \n",
    "                                                          how='left', \n",
    "                                                          indicator=True) \n",
    "            list_min = list[list['_merge'] == 'left_only'][columns.value].unique()\n",
    "            display(len(list_min))\n",
    "            display(pd.DataFrame(list_min).style.set_properties(**{'text-align': 'left'}))\n",
    "            \n",
    "\n",
    "    button.on_click(_click_function)"
   ]
  },
  {
   "cell_type": "code",
   "execution_count": 18,
   "id": "b08d53a2-35ac-4e23-be78-aec05d78dbb3",
   "metadata": {
    "tags": []
   },
   "outputs": [
    {
     "data": {
      "application/vnd.jupyter.widget-view+json": {
       "model_id": "561518d87b5e4917b317b61710ea1f0c",
       "version_major": 2,
       "version_minor": 0
      },
      "text/plain": [
       "Dropdown(description='Events in:', options=('without_2003_down', 'without_2003_local', 'without_xlsm_down', 'w…"
      ]
     },
     "metadata": {},
     "output_type": "display_data"
    },
    {
     "data": {
      "application/vnd.jupyter.widget-view+json": {
       "model_id": "1eb665dc854c49aea31e8cc3ac856cce",
       "version_major": 2,
       "version_minor": 0
      },
      "text/plain": [
       "Dropdown(description='And not in:', options=('without_2003_down', 'without_2003_local', 'without_xlsm_down', '…"
      ]
     },
     "metadata": {},
     "output_type": "display_data"
    },
    {
     "data": {
      "application/vnd.jupyter.widget-view+json": {
       "model_id": "baabf56b99154ff997fc3dcf3dc04d7d",
       "version_major": 2,
       "version_minor": 0
      },
      "text/plain": [
       "Dropdown(description='Column:', options=('UtcTime', 'EventID', 'ImageLoaded', 'FileVersion', 'Description', 'P…"
      ]
     },
     "metadata": {},
     "output_type": "display_data"
    },
    {
     "data": {
      "application/vnd.jupyter.widget-view+json": {
       "model_id": "b1eed1dc5a974fab9eea15059119aa5e",
       "version_major": 2,
       "version_minor": 0
      },
      "text/plain": [
       "Button(description='List', style=ButtonStyle())"
      ]
     },
     "metadata": {},
     "output_type": "display_data"
    },
    {
     "data": {
      "application/vnd.jupyter.widget-view+json": {
       "model_id": "7ef236e216104a70b289e1a7f8f6dfd1",
       "version_major": 2,
       "version_minor": 0
      },
      "text/plain": [
       "Output()"
      ]
     },
     "metadata": {},
     "output_type": "display_data"
    }
   ],
   "source": [
    "compare_events()"
   ]
  }
 ],
 "metadata": {
  "kernelspec": {
   "display_name": "Python 3 (ipykernel)",
   "language": "python",
   "name": "python3"
  },
  "language_info": {
   "codemirror_mode": {
    "name": "ipython",
    "version": 3
   },
   "file_extension": ".py",
   "mimetype": "text/x-python",
   "name": "python",
   "nbconvert_exporter": "python",
   "pygments_lexer": "ipython3",
   "version": "3.8.12"
  }
 },
 "nbformat": 4,
 "nbformat_minor": 5
}
