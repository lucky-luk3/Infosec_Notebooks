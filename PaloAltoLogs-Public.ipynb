{
 "cells": [
  {
   "cell_type": "markdown",
   "id": "f025a8bc",
   "metadata": {},
   "source": [
    "# PaloAlto API"
   ]
  },
  {
   "cell_type": "code",
   "execution_count": null,
   "id": "f1dfb590",
   "metadata": {},
   "outputs": [],
   "source": [
    "import requests\n",
    "import xmltodict\n",
    "import urllib3\n",
    "import time\n",
    "from urllib.parse import quote\n",
    "import pandas as pd\n",
    "import geoip2.database\n",
    "import json\n",
    "\n",
    "urllib3.disable_warnings(urllib3.exceptions.InsecureRequestWarning)\n",
    "pd.set_option('display.max_columns', None)"
   ]
  },
  {
   "cell_type": "markdown",
   "id": "dfbe7957",
   "metadata": {},
   "source": [
    "## API key request"
   ]
  },
  {
   "cell_type": "code",
   "execution_count": null,
   "id": "2c3507b1",
   "metadata": {},
   "outputs": [],
   "source": [
    "fw_url = \"https://10.170.1.1/api/\""
   ]
  },
  {
   "cell_type": "code",
   "execution_count": null,
   "id": "9739ad35",
   "metadata": {
    "scrolled": true
   },
   "outputs": [],
   "source": [
    "url = '{0}?type=keygen&user=dc\\user1&password=pass1'.format(fw_url)\n",
    "r = requests.get(url, verify=False)"
   ]
  },
  {
   "cell_type": "code",
   "execution_count": null,
   "id": "88883492",
   "metadata": {
    "scrolled": true
   },
   "outputs": [],
   "source": [
    "dict_data = xmltodict.parse(r.content)\n",
    "api_key = dict_data[\"response\"][\"result\"][\"key\"]\n",
    "api_key"
   ]
  },
  {
   "cell_type": "markdown",
   "id": "489d3484",
   "metadata": {},
   "source": [
    "## Get traffic logs"
   ]
  },
  {
   "cell_type": "code",
   "execution_count": null,
   "id": "3ac1d3b0",
   "metadata": {},
   "outputs": [],
   "source": [
    "#query = \"(receive_time geq '2021/05/03 00:49:00')\"\n",
    "#query = \"( user.src eq 'dc\\user1')\"\n",
    "log_type = \"traffic\"\n",
    "query = \"( receive_time leq '2021/05/10 02:15:07' ) and ( receive_time geq '2021/05/09 02:15:07' )\"\n",
    "\n",
    "#log_type = \"auth\"\n",
    "#query = \"( description contains 'dc\\user1' )\" log_type = \"system\" # Para ver logins, accesos a consolas, \n",
    "\n",
    "#query = \"( eventid eq auth-success )\" \n",
    "#log_type = \"system\""
   ]
  },
  {
   "cell_type": "code",
   "execution_count": null,
   "id": "f804aac3",
   "metadata": {},
   "outputs": [],
   "source": [
    "log_type"
   ]
  },
  {
   "cell_type": "code",
   "execution_count": null,
   "id": "9b83e7bf",
   "metadata": {},
   "outputs": [],
   "source": [
    "quoted_query = quote(query)\n",
    "quoted_query"
   ]
  },
  {
   "cell_type": "code",
   "execution_count": null,
   "id": "3151aafa",
   "metadata": {},
   "outputs": [],
   "source": [
    "def delete_job(api_key, job_id):\n",
    "    url_job_delete = \"{0}?key={1}&type=log&action=finish&job-id={2}\".format(fw_url, api_key, job_id)\n",
    "    job_delete_response = requests.get(url_job_delete, verify=False)\n",
    "    print(xmltodict.parse(job_delete_response.content)[\"response\"][\"msg\"])"
   ]
  },
  {
   "cell_type": "code",
   "execution_count": null,
   "id": "4cb26c95",
   "metadata": {},
   "outputs": [],
   "source": [
    "def fw_request(key, q_type, log_type='', skip=0, query='', action='', job_id=''):\n",
    "    if \"finish\" in action:\n",
    "        url = \"{0}?key={1}&type=log&action=finish&job-id={2}\".format(fw_url, api_key, job_id)\n",
    "    elif \"get\" in action:\n",
    "        url = fw_url + \"{0}?key={1}&type=log&action=get&job-id={2}\".format(fw_url,api_key,job_id_int)\n",
    "    elif query:\n",
    "        quoted_query = quote(query)\n",
    "        url = fw_url + \"{0}?key={1}&type=log&log-type={2}&nlogs=5000&skip={3}&query={4}\".format(fw_url,api_key,log_type,skip,quoted_query)\n",
    "    else:\n",
    "        print(\"Invalid request\")\n",
    "        return False\n",
    "    \n",
    "    response = requests.get(url, verify=False)\n",
    "    response_dict = xmltodict.parse(response.content)\n",
    "    return response_dict\n",
    "        "
   ]
  },
  {
   "cell_type": "code",
   "execution_count": null,
   "id": "bb61f0f1",
   "metadata": {},
   "outputs": [],
   "source": [
    "%%time\n",
    "# Log requests, download in groups of 5k events.\n",
    "step = 0\n",
    "last_query = False\n",
    "from IPython.display import clear_output\n",
    "while not last_query:\n",
    "    clear_output(wait=True)\n",
    "    skip = 5000 * step\n",
    "    job_id_response = fw_request(api_key, \"log\", log_type, skip=skip, query=query)\n",
    "    job_id_int = int(job_id_response[\"response\"][\"result\"][\"job\"])\n",
    "    print(\"Job ID: {0}\".format(job_id_int))\n",
    "    finished = False\n",
    "    while not finished:\n",
    "        data_query_response_dict = fw_request(api_key, \"log\", action='get', job_id=job_id_int)\n",
    "        status = data_query_response_dict[\"response\"][\"result\"][\"job\"][\"status\"]\n",
    "        if \"FIN\" not in status:\n",
    "            print(\"Status: {0}\".format(status))\n",
    "            #time.sleep(1)\n",
    "        else:\n",
    "            print(\"Status: {0}\".format(status))\n",
    "            fw_request(api_key, \"log\", action='finish', job_id=job_id_int)\n",
    "            if int(data_query_response_dict[\"response\"][\"result\"][\"log\"][\"logs\"]['@count']) > 0:\n",
    "                #print(data_query_response_dict)\n",
    "                entries = data_query_response_dict[\"response\"][\"result\"][\"log\"][\"logs\"]['entry']\n",
    "                if step == 0:\n",
    "                    df = pd.DataFrame(entries)\n",
    "                else:\n",
    "                    df_t = pd.DataFrame(entries)\n",
    "                    df = df.append(df_t, ignore_index=True)\n",
    "                if int(data_query_response_dict[\"response\"][\"result\"][\"log\"][\"logs\"]['@count']) < 5000:\n",
    "                    print(\"Last query\")\n",
    "                    last_query = True\n",
    "                step += 1\n",
    "                finished = True\n",
    "            else: \n",
    "                print(\"Query sin resultados\")\n",
    "                last_query = True\n",
    "                break"
   ]
  },
  {
   "cell_type": "code",
   "execution_count": null,
   "id": "4f3f00e5",
   "metadata": {},
   "outputs": [],
   "source": [
    "len(df.index)"
   ]
  },
  {
   "cell_type": "code",
   "execution_count": null,
   "id": "c70cf9af",
   "metadata": {},
   "outputs": [],
   "source": [
    "df"
   ]
  },
  {
   "cell_type": "markdown",
   "id": "4052a918",
   "metadata": {},
   "source": [
    "# System logs for authentication\n",
    "The interesting data is in the column \"opaque\"  \n",
    "Example: \"authenticated for user 'dom\\user01'.   auth profile 'AUTH_GlobalProtect', vsys 'vsys1', server profile 'Pool de Servidores AD', server address '10.1.10.23', From: 20.13.93.250.\""
   ]
  },
  {
   "cell_type": "markdown",
   "id": "987c705a",
   "metadata": {},
   "source": [
    "### Extract data from column"
   ]
  },
  {
   "cell_type": "code",
   "execution_count": null,
   "id": "73de9458",
   "metadata": {
    "scrolled": true
   },
   "outputs": [],
   "source": [
    "#Sytem logs ( eventid eq auth-success )\n",
    "df[\"user.src\"] = df[\"opaque\"].str.extract(\"(?<=user ')(.*)(?=\\'\\.)\", expand=True)\n",
    "df[\"srv_address\"] = df[\"opaque\"].str.extract(\"(?<=ess ')(.*)(?=\\',)\", expand=True)\n",
    "df[\"from\"] = df[\"opaque\"].str.extract(\"(?<=rom: )((\\d){1,3}.(\\d){1,3}.(\\d){1,3}.(\\d){1,3})\", expand=True)\n",
    "df.iloc[1]"
   ]
  },
  {
   "cell_type": "markdown",
   "id": "797740d0",
   "metadata": {},
   "source": [
    "### Users with connections from more than one country"
   ]
  },
  {
   "cell_type": "code",
   "execution_count": null,
   "id": "33a36a39",
   "metadata": {
    "scrolled": true
   },
   "outputs": [],
   "source": [
    "df[[\"from\", \"user.src\"]].groupby(\"user.src\").agg({\"from\": \"nunique\"}).sort_values(\"from\", ascending=False).head()"
   ]
  },
  {
   "cell_type": "code",
   "execution_count": null,
   "id": "e6ae4b87",
   "metadata": {
    "scrolled": true
   },
   "outputs": [],
   "source": [
    "df[df[\"user\"].str.contains(\"user1\", na=False)][[\"from\", \"user.src\"]].groupby(\"from\").agg({\"user.src\": \"count\"}).sort_values(\"user.src\", ascending=False).head()"
   ]
  },
  {
   "cell_type": "code",
   "execution_count": null,
   "id": "b73813ad",
   "metadata": {
    "scrolled": true
   },
   "outputs": [],
   "source": [
    "df[df[\"user.src\"].str.contains(\"user1\", na=False) & ~(df[\"from\"].str.startswith(\"189\", na=False))][[\"from\", \"user.src\"]].groupby(\"from\").agg({\"user.src\": \"count\"}).sort_values(\"user.src\").head()"
   ]
  },
  {
   "cell_type": "markdown",
   "id": "7f3810b6",
   "metadata": {},
   "source": [
    "## GeoIP"
   ]
  },
  {
   "cell_type": "code",
   "execution_count": null,
   "id": "cedafaca",
   "metadata": {},
   "outputs": [],
   "source": [
    "def get_country(ip):\n",
    "    try:\n",
    "        x = reader.country(ip)\n",
    "    except:\n",
    "        return pd.np.nan\n",
    "    try:\n",
    "        return x.country.name if x else pd.np.nan\n",
    "    except KeyError:\n",
    "        return pd.np.nan"
   ]
  },
  {
   "cell_type": "code",
   "execution_count": null,
   "id": "0ef5ba52",
   "metadata": {},
   "outputs": [],
   "source": [
    "%%time\n",
    "with geoip2.database.Reader('.\\\\geoip\\\\GeoLite2-Country.mmdb') as reader:\n",
    "    # get unique IPs\n",
    "    unique_ips = df['from'].unique()\n",
    "    # make series out of it\n",
    "    unique_ips = pd.Series(unique_ips, index = unique_ips)\n",
    "    df['country'] = df['from'].map(unique_ips.apply(get_country))\n",
    "    "
   ]
  },
  {
   "cell_type": "markdown",
   "id": "b4ad842f",
   "metadata": {},
   "source": [
    "#### Countries by number of legit accesses"
   ]
  },
  {
   "cell_type": "code",
   "execution_count": null,
   "id": "71c08523",
   "metadata": {},
   "outputs": [],
   "source": [
    "df[[\"country\",\"@logid\"]].groupby(\"country\").agg({\"@logid\": \"count\"}).sort_values(\"@logid\", ascending=False)"
   ]
  },
  {
   "cell_type": "markdown",
   "id": "c7e4ddef",
   "metadata": {},
   "source": [
    "### Users with accesses from more than one country"
   ]
  },
  {
   "cell_type": "code",
   "execution_count": null,
   "id": "8e8180ae",
   "metadata": {},
   "outputs": [],
   "source": [
    "df[[\"country\",\"user\"]].groupby(\"user\").agg({\"country\": \"nunique\"}).sort_values(\"country\", ascending=False)"
   ]
  },
  {
   "cell_type": "code",
   "execution_count": null,
   "id": "b3b69145",
   "metadata": {
    "scrolled": true
   },
   "outputs": [],
   "source": [
    "df2 = df[[\"country\",\"user\"]].groupby(\"user\").agg({\"country\": \"nunique\"})\n",
    "df2[df2['country'] > 1]"
   ]
  },
  {
   "cell_type": "code",
   "execution_count": null,
   "id": "65c0bc88",
   "metadata": {},
   "outputs": [],
   "source": [
    "df2[\"countries\"] = df.groupby(['user']).agg({\"country\": \"unique\"})['country']"
   ]
  },
  {
   "cell_type": "code",
   "execution_count": null,
   "id": "2a12aebe",
   "metadata": {
    "scrolled": true
   },
   "outputs": [],
   "source": [
    "df2[df2.country > 1]"
   ]
  },
  {
   "cell_type": "markdown",
   "id": "17576fdc",
   "metadata": {},
   "source": [
    "### User query"
   ]
  },
  {
   "cell_type": "code",
   "execution_count": null,
   "id": "8c678992",
   "metadata": {},
   "outputs": [],
   "source": [
    "df[(df[\"user\"] == \"mx\\\\user1\") & (df[\"country\"] == \"Czechia\")].groupby(\"from\").agg({\"receive_time\": \"count\"})"
   ]
  },
  {
   "cell_type": "code",
   "execution_count": null,
   "id": "76004c35",
   "metadata": {
    "scrolled": true
   },
   "outputs": [],
   "source": [
    "df[(df[\"user\"] == \"mx\\\\user1\") & (df[\"country\"] == \"Czechia\")]"
   ]
  },
  {
   "cell_type": "markdown",
   "id": "689e52f0",
   "metadata": {},
   "source": [
    "### Abuse IP DB"
   ]
  },
  {
   "cell_type": "code",
   "execution_count": null,
   "id": "3b439924",
   "metadata": {},
   "outputs": [],
   "source": [
    "def abuseipdb_req(ip):\n",
    "    try:\n",
    "        key = \"api-key\"\n",
    "        url = 'https://api.abuseipdb.com/api/v2/check'\n",
    "        querystring = {\n",
    "            'ipAddress': ip,\n",
    "            'maxAgeInDays': '90'\n",
    "        }\n",
    "        headers = {\n",
    "            'Accept': 'application/json',\n",
    "            'Key': key\n",
    "        }\n",
    "        response = requests.request(method='GET', url=url, headers=headers, params=querystring)\n",
    "        decodedResponse = json.loads(response.text)\n",
    "    except:\n",
    "        return pd.np.nan\n",
    "    try:\n",
    "        return decodedResponse[\"data\"][\"abuseConfidenceScore\"] if decodedResponse else pd.np.nan\n",
    "    except KeyError:\n",
    "        return pd.np.nan"
   ]
  },
  {
   "cell_type": "code",
   "execution_count": null,
   "id": "4e97000c",
   "metadata": {},
   "outputs": [],
   "source": [
    "abuse_ips = df[(df.user.isin(df2[df2.country > 1].index)) & (df[\"country\"] != \"Mexico\")][\"from\"].unique()\n",
    "len(abuse_ips)"
   ]
  },
  {
   "cell_type": "code",
   "execution_count": null,
   "id": "84053a99",
   "metadata": {
    "scrolled": true
   },
   "outputs": [],
   "source": [
    "%%time\n",
    "unique_ips = pd.Series(abuse_ips, index = abuse_ips)\n",
    "df['abuse_result'] = df['from'].map(unique_ips.apply(abuseipdb_req))"
   ]
  },
  {
   "cell_type": "code",
   "execution_count": null,
   "id": "6266570d",
   "metadata": {
    "scrolled": true
   },
   "outputs": [],
   "source": [
    "df[[\"from\", \"abuse_result\"]].sort_values(by=[\"abuse_result\"], ascending=False)"
   ]
  },
  {
   "cell_type": "code",
   "execution_count": null,
   "id": "7854cc2b",
   "metadata": {
    "scrolled": true
   },
   "outputs": [],
   "source": [
    "df3 = df[[\"from\", \"abuse_result\"]].groupby([\"from\"]).agg({\"abuse_result\": \"mean\"}).sort_values(by=[\"abuse_result\"], ascending=False)\n",
    "df3 = df3.reset_index()\n",
    "df3[df3[\"abuse_result\"] > 0]"
   ]
  },
  {
   "cell_type": "markdown",
   "id": "f45777ea",
   "metadata": {},
   "source": [
    "### Tor Nodes"
   ]
  },
  {
   "cell_type": "code",
   "execution_count": null,
   "id": "ee9bf0e2",
   "metadata": {},
   "outputs": [],
   "source": [
    "nodes = requests.request(method='GET', url=\"https://www.dan.me.uk/torlist/\") #30 minutes limit"
   ]
  },
  {
   "cell_type": "code",
   "execution_count": null,
   "id": "c3d2b408",
   "metadata": {},
   "outputs": [],
   "source": [
    "nodes_list = nodes.text.split(\"\\n\")"
   ]
  },
  {
   "cell_type": "code",
   "execution_count": null,
   "id": "77a5b9d1",
   "metadata": {},
   "outputs": [],
   "source": [
    "def is_tor_node(ip):\n",
    "    if ip in nodes_list:\n",
    "        return True\n",
    "    else:\n",
    "        return False"
   ]
  },
  {
   "cell_type": "code",
   "execution_count": null,
   "id": "8cf6dee6",
   "metadata": {},
   "outputs": [],
   "source": [
    "df3[df3[\"abuse_result\"] > 0]\n",
    "df3['is_tor_node'] = df3['from'].apply(is_tor_node)"
   ]
  },
  {
   "cell_type": "code",
   "execution_count": null,
   "id": "242e1734",
   "metadata": {},
   "outputs": [],
   "source": [
    "df3[df3[\"is_tor_node\"]]"
   ]
  }
 ],
 "metadata": {
  "kernelspec": {
   "display_name": "Python 3",
   "language": "python",
   "name": "python3"
  },
  "language_info": {
   "codemirror_mode": {
    "name": "ipython",
    "version": 3
   },
   "file_extension": ".py",
   "mimetype": "text/x-python",
   "name": "python",
   "nbconvert_exporter": "python",
   "pygments_lexer": "ipython3",
   "version": "3.8.2"
  }
 },
 "nbformat": 4,
 "nbformat_minor": 5
}
