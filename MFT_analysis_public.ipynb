{
 "cells": [
  {
   "cell_type": "markdown",
   "id": "3f35037d",
   "metadata": {},
   "source": [
    "# MFT Analysis\n",
    "* Process MFT file with MFTECmd to CSV.\n",
    "* Load CSV into a DataFrame.\n",
    "* Days with more events in MFT.\n",
    "* Files with more events in MFT.\n",
    "* Executable files created before to de ransom note.\n"
   ]
  },
  {
   "cell_type": "code",
   "execution_count": 3,
   "id": "d70b1834",
   "metadata": {},
   "outputs": [],
   "source": [
    "import os\n",
    "from subprocess import check_output\n",
    "mft_path = \"\\\"C:\\\\kape\\\\collected\\\\2021-06-01T151604\\\\C\\\\$MFT\\\"\"\n",
    "mftexplorer_path = \"\\\"C:\\\\MFTExplorer\\\\MFTECmd.exe\\\"\"\n",
    "output_folder = \"C:\\\\Documents\\\\test\"\n",
    "output_filename = \"MyOutputFile.csv\"\n"
   ]
  },
  {
   "cell_type": "code",
   "execution_count": null,
   "id": "e70f4258",
   "metadata": {},
   "outputs": [],
   "source": [
    "%%time\n",
    "command = \"{0} -f {1} --csv \\\"{2}\\\" --csvf \\\"{3}\\\"\".format(mftexplorer_path, mft_path, output_folder, output_filename)\n",
    "print(command)\n",
    "output = os.popen(command).read()"
   ]
  },
  {
   "cell_type": "markdown",
   "id": "9b549403",
   "metadata": {},
   "source": [
    "## DataFrame creation with MFT"
   ]
  },
  {
   "cell_type": "code",
   "execution_count": 4,
   "id": "f158d520",
   "metadata": {
    "scrolled": true
   },
   "outputs": [
    {
     "name": "stderr",
     "output_type": "stream",
     "text": [
      "<decorator-gen-55>:2: DtypeWarning: Columns (10,20,22,26,30,31,32) have mixed types.Specify dtype option on import or set low_memory=False.\n"
     ]
    },
    {
     "name": "stdout",
     "output_type": "stream",
     "text": [
      "Wall time: 5.1 s\n"
     ]
    }
   ],
   "source": [
    "%%time\n",
    "import pandas as pd \n",
    "pd.set_option('display.max_columns', 500)\n",
    "\n",
    "data = pd.read_csv(output_folder + \"\\\\\" + output_filename)"
   ]
  },
  {
   "cell_type": "code",
   "execution_count": 5,
   "id": "dacaa745-f830-4883-806a-3beacc4b568d",
   "metadata": {},
   "outputs": [
    {
     "data": {
      "text/plain": [
       "501082"
      ]
     },
     "execution_count": 5,
     "metadata": {},
     "output_type": "execute_result"
    }
   ],
   "source": [
    "len(data)"
   ]
  },
  {
   "cell_type": "code",
   "execution_count": 8,
   "id": "d5c3b76a-530b-4db2-a978-6e34291ee5dd",
   "metadata": {},
   "outputs": [
    {
     "data": {
      "text/html": [
       "<div>\n",
       "<style scoped>\n",
       "    .dataframe tbody tr th:only-of-type {\n",
       "        vertical-align: middle;\n",
       "    }\n",
       "\n",
       "    .dataframe tbody tr th {\n",
       "        vertical-align: top;\n",
       "    }\n",
       "\n",
       "    .dataframe thead th {\n",
       "        text-align: right;\n",
       "    }\n",
       "</style>\n",
       "<table border=\"1\" class=\"dataframe\">\n",
       "  <thead>\n",
       "    <tr style=\"text-align: right;\">\n",
       "      <th></th>\n",
       "      <th>EntryNumber</th>\n",
       "      <th>SequenceNumber</th>\n",
       "      <th>InUse</th>\n",
       "      <th>ParentEntryNumber</th>\n",
       "      <th>ParentSequenceNumber</th>\n",
       "      <th>ParentPath</th>\n",
       "      <th>FileName</th>\n",
       "      <th>Extension</th>\n",
       "      <th>FileSize</th>\n",
       "      <th>ReferenceCount</th>\n",
       "      <th>ReparseTarget</th>\n",
       "      <th>IsDirectory</th>\n",
       "      <th>HasAds</th>\n",
       "      <th>IsAds</th>\n",
       "      <th>SI&lt;FN</th>\n",
       "      <th>uSecZeros</th>\n",
       "      <th>Copied</th>\n",
       "      <th>SiFlags</th>\n",
       "      <th>NameType</th>\n",
       "      <th>Created0x10</th>\n",
       "      <th>Created0x30</th>\n",
       "      <th>LastModified0x10</th>\n",
       "      <th>LastModified0x30</th>\n",
       "      <th>LastRecordChange0x10</th>\n",
       "      <th>LastRecordChange0x30</th>\n",
       "      <th>LastAccess0x10</th>\n",
       "      <th>LastAccess0x30</th>\n",
       "      <th>UpdateSequenceNumber</th>\n",
       "      <th>LogfileSequenceNumber</th>\n",
       "      <th>SecurityId</th>\n",
       "      <th>ObjectIdFileDroid</th>\n",
       "      <th>LoggedUtilStream</th>\n",
       "      <th>ZoneIdContents</th>\n",
       "    </tr>\n",
       "  </thead>\n",
       "  <tbody>\n",
       "    <tr>\n",
       "      <th>0</th>\n",
       "      <td>0</td>\n",
       "      <td>1</td>\n",
       "      <td>True</td>\n",
       "      <td>5</td>\n",
       "      <td>5</td>\n",
       "      <td>.</td>\n",
       "      <td>$MFT</td>\n",
       "      <td>NaN</td>\n",
       "      <td>482082816</td>\n",
       "      <td>1</td>\n",
       "      <td>NaN</td>\n",
       "      <td>False</td>\n",
       "      <td>False</td>\n",
       "      <td>False</td>\n",
       "      <td>False</td>\n",
       "      <td>False</td>\n",
       "      <td>False</td>\n",
       "      <td>Hidden|System</td>\n",
       "      <td>DosWindows</td>\n",
       "      <td>2018-05-09 18:18:22.2782672</td>\n",
       "      <td>NaN</td>\n",
       "      <td>2018-05-09 18:18:22.2782672</td>\n",
       "      <td>NaN</td>\n",
       "      <td>2018-05-09 18:18:22.2782672</td>\n",
       "      <td>NaN</td>\n",
       "      <td>2018-05-09 18:18:22.2782672</td>\n",
       "      <td>NaN</td>\n",
       "      <td>0</td>\n",
       "      <td>167459167393</td>\n",
       "      <td>256</td>\n",
       "      <td>NaN</td>\n",
       "      <td>NaN</td>\n",
       "      <td>NaN</td>\n",
       "    </tr>\n",
       "  </tbody>\n",
       "</table>\n",
       "</div>"
      ],
      "text/plain": [
       "   EntryNumber  SequenceNumber  InUse  ParentEntryNumber  \\\n",
       "0            0               1   True                  5   \n",
       "\n",
       "   ParentSequenceNumber ParentPath FileName Extension   FileSize  \\\n",
       "0                     5          .     $MFT       NaN  482082816   \n",
       "\n",
       "   ReferenceCount ReparseTarget  IsDirectory  HasAds  IsAds  SI<FN  uSecZeros  \\\n",
       "0               1           NaN        False   False  False  False      False   \n",
       "\n",
       "   Copied        SiFlags    NameType                  Created0x10 Created0x30  \\\n",
       "0   False  Hidden|System  DosWindows  2018-05-09 18:18:22.2782672         NaN   \n",
       "\n",
       "              LastModified0x10 LastModified0x30         LastRecordChange0x10  \\\n",
       "0  2018-05-09 18:18:22.2782672              NaN  2018-05-09 18:18:22.2782672   \n",
       "\n",
       "  LastRecordChange0x30               LastAccess0x10 LastAccess0x30  \\\n",
       "0                  NaN  2018-05-09 18:18:22.2782672            NaN   \n",
       "\n",
       "   UpdateSequenceNumber  LogfileSequenceNumber  SecurityId ObjectIdFileDroid  \\\n",
       "0                     0           167459167393         256               NaN   \n",
       "\n",
       "  LoggedUtilStream ZoneIdContents  \n",
       "0              NaN            NaN  "
      ]
     },
     "execution_count": 8,
     "metadata": {},
     "output_type": "execute_result"
    }
   ],
   "source": [
    "data.head(1)"
   ]
  },
  {
   "cell_type": "code",
   "execution_count": 6,
   "id": "351aac9e",
   "metadata": {},
   "outputs": [],
   "source": [
    "data.set_index(\"EntryNumber\", inplace=True)"
   ]
  },
  {
   "cell_type": "code",
   "execution_count": 7,
   "id": "7fb2cdea",
   "metadata": {},
   "outputs": [
    {
     "name": "stdout",
     "output_type": "stream",
     "text": [
      "Wall time: 2.54 s\n"
     ]
    }
   ],
   "source": [
    "%%time\n",
    "data['Created0x10'] =  pd.to_datetime(data['Created0x10'], format='%Y-%m-%d %H:%M:%S.%f')\n",
    "data['Created0x30'] =  pd.to_datetime(data['Created0x30'], format='%Y-%m-%d %H:%M:%S.%f')\n",
    "data['LastModified0x10'] =  pd.to_datetime(data['LastModified0x10'], format='%Y-%m-%d %H:%M:%S.%f')\n",
    "data['LastModified0x30'] =  pd.to_datetime(data['LastModified0x30'], format='%Y-%m-%d %H:%M:%S.%f')\n",
    "data['LastRecordChange0x10'] =  pd.to_datetime(data['LastRecordChange0x10'], format='%Y-%m-%d %H:%M:%S.%f')\n",
    "data['LastRecordChange0x30'] =  pd.to_datetime(data['LastRecordChange0x30'], format='%Y-%m-%d %H:%M:%S.%f')"
   ]
  },
  {
   "cell_type": "markdown",
   "id": "2b232d4d",
   "metadata": {},
   "source": [
    "### Days with more events in MFT"
   ]
  },
  {
   "cell_type": "code",
   "execution_count": 8,
   "id": "704c6257",
   "metadata": {},
   "outputs": [],
   "source": [
    "dates = data[\"LastRecordChange0x10\"]"
   ]
  },
  {
   "cell_type": "code",
   "execution_count": 9,
   "id": "a477ea3a-50f3-45bb-bbf5-ee5ac050296c",
   "metadata": {},
   "outputs": [],
   "source": [
    "dates.index = dates.dt.to_period('d')"
   ]
  },
  {
   "cell_type": "code",
   "execution_count": 10,
   "id": "e1cd7a1b-2375-4a35-9aec-febfeba4a7d1",
   "metadata": {},
   "outputs": [],
   "source": [
    "s = dates.groupby(level=0).size()"
   ]
  },
  {
   "cell_type": "code",
   "execution_count": 11,
   "id": "011a1251-e5b8-4beb-ad73-a1d0ef3da657",
   "metadata": {},
   "outputs": [
    {
     "data": {
      "text/plain": [
       "LastRecordChange0x10\n",
       "2018-05-09    91072\n",
       "2021-05-13    78420\n",
       "2021-03-11    40069\n",
       "2021-02-22    26698\n",
       "2018-06-21    24047\n",
       "2021-05-17    23735\n",
       "2021-02-11    21200\n",
       "2019-08-13    15962\n",
       "2021-01-25    15456\n",
       "2021-03-29    14427\n",
       "Freq: D, Name: LastRecordChange0x10, dtype: int64"
      ]
     },
     "execution_count": 11,
     "metadata": {},
     "output_type": "execute_result"
    }
   ],
   "source": [
    "s.sort_values(ascending=False).head(10)"
   ]
  },
  {
   "cell_type": "markdown",
   "id": "79881a87",
   "metadata": {},
   "source": [
    "### Graph by dates"
   ]
  },
  {
   "cell_type": "code",
   "execution_count": null,
   "id": "96fb5912-f987-40bd-b815-6049637b77b7",
   "metadata": {},
   "outputs": [],
   "source": []
  },
  {
   "cell_type": "code",
   "execution_count": null,
   "id": "6cb1c1ca-b6d3-45dc-9f82-06462523b849",
   "metadata": {},
   "outputs": [],
   "source": []
  },
  {
   "cell_type": "code",
   "execution_count": 12,
   "id": "7526057e-6785-4c85-8477-a73180ee8f7a",
   "metadata": {
    "tags": []
   },
   "outputs": [
    {
     "data": {
      "text/plain": [
       "<AxesSubplot:xlabel='LastRecordChange0x10'>"
      ]
     },
     "execution_count": 12,
     "metadata": {},
     "output_type": "execute_result"
    },
    {
     "data": {
      "image/png": "[encoded data removed]",
      "text/plain": [
       "<Figure size 432x288 with 1 Axes>"
      ]
     },
     "metadata": {
      "needs_background": "light"
     },
     "output_type": "display_data"
    }
   ],
   "source": [
    "import matplotlib.pyplot as plt\n",
    "s.plot()"
   ]
  },
  {
   "cell_type": "code",
   "execution_count": 15,
   "id": "c94f4f54-beb5-458f-9d71-80baa122a40a",
   "metadata": {},
   "outputs": [],
   "source": [
    "s1 = s.loc['2021-05-18 23:00:00':'2021-05-29 00:00:00']"
   ]
  },
  {
   "cell_type": "code",
   "execution_count": 16,
   "id": "882be659-c087-4c93-bb1a-721b00bd4723",
   "metadata": {},
   "outputs": [
    {
     "data": {
      "text/plain": [
       "<AxesSubplot:xlabel='LastRecordChange0x10'>"
      ]
     },
     "execution_count": 16,
     "metadata": {},
     "output_type": "execute_result"
    },
    {
     "data": {
      "image/png": "[encoded data removed]",
      "text/plain": [
       "<Figure size 432x288 with 1 Axes>"
      ]
     },
     "metadata": {
      "needs_background": "light"
     },
     "output_type": "display_data"
    }
   ],
   "source": [
    "s1.plot()"
   ]
  },
  {
   "cell_type": "markdown",
   "id": "b036942d",
   "metadata": {},
   "source": [
    "### Most repeated names"
   ]
  },
  {
   "cell_type": "code",
   "execution_count": 17,
   "id": "ceae7c0d",
   "metadata": {},
   "outputs": [],
   "source": [
    "data_filtered = data[(data['LastModified0x10'] > \"2021-01-01\") & (data['LastModified0x10'] < \"2021-05-30\")]\n",
    "names = data_filtered[\"FileName\"].value_counts()"
   ]
  },
  {
   "cell_type": "code",
   "execution_count": 20,
   "id": "d2211480-e303-49ed-a331-372ffc71049c",
   "metadata": {},
   "outputs": [
    {
     "data": {
      "text/plain": [
       "3lvnvt-readme.txt    1183\n",
       "ui-strings.js        1017\n",
       "messages.json         488\n",
       "Report.wer            384\n",
       "mpuxagent.dll.mui     252\n",
       "Name: FileName, dtype: int64"
      ]
     },
     "execution_count": 20,
     "metadata": {},
     "output_type": "execute_result"
    }
   ],
   "source": [
    "names.nlargest()"
   ]
  },
  {
   "cell_type": "markdown",
   "id": "bf35d03f",
   "metadata": {},
   "source": [
    "### Filenames that contains \"readme\""
   ]
  },
  {
   "cell_type": "code",
   "execution_count": null,
   "id": "a1c0defc",
   "metadata": {
    "tags": []
   },
   "outputs": [],
   "source": [
    "readme = data[(data[\"FileName\"].str.contains(\"readme\")) & (data['LastModified0x10'] > \"2021-05-21\") & (data['LastModified0x10'] < \"2021-05-27\")]\n",
    "readme.sort_values(by='LastModified0x10', ascending=True)"
   ]
  },
  {
   "cell_type": "markdown",
   "id": "86f2fcdf-aacb-48d9-bdf0-93a210382035",
   "metadata": {},
   "source": [
    "### Most used extension files"
   ]
  },
  {
   "cell_type": "code",
   "execution_count": 24,
   "id": "52df55be-f856-4460-b986-0136d0aeaeb0",
   "metadata": {},
   "outputs": [
    {
     "data": {
      "text/plain": [
       "Extension\n",
       ".3lvnvt    2357\n",
       ".txt       1203\n",
       ".log        475\n",
       ".json       470\n",
       ".evtx       278\n",
       "dtype: int64"
      ]
     },
     "execution_count": 24,
     "metadata": {},
     "output_type": "execute_result"
    }
   ],
   "source": [
    "data[(data['LastModified0x10'] > \"2021-05-21\") & (data['LastModified0x10'] < \"2021-05-27\")].groupby(\"Extension\").size().nlargest()"
   ]
  },
  {
   "cell_type": "markdown",
   "id": "236f3e4b",
   "metadata": {},
   "source": [
    "### Executables created after first ransom note was created"
   ]
  },
  {
   "cell_type": "code",
   "execution_count": 25,
   "id": "ae36b47b",
   "metadata": {},
   "outputs": [],
   "source": [
    "first_note = readme1.sort_values(by=\"LastModified0x10\", ascending=True).iloc[0][\"LastModified0x10\"]\n",
    "range_exe = first_note + pd.offsets.Hour(-12)"
   ]
  },
  {
   "cell_type": "code",
   "execution_count": 26,
   "id": "49620952",
   "metadata": {
    "scrolled": true
   },
   "outputs": [],
   "source": [
    "data_filtered = data[(data['Created0x10'] > \"2021-05-22\") & (data['Created0x10'] < \"2021-05-25\")]\n",
    "files = data_filtered[data_filtered[\"FileName\"].str.contains(\"\\.exe|\\.ps1|\\.msi|\\.vba\", regex=True)]"
   ]
  },
  {
   "cell_type": "code",
   "execution_count": 27,
   "id": "cdf34021-246a-4767-8ad9-fbc9994fc6e4",
   "metadata": {},
   "outputs": [
    {
     "data": {
      "text/html": [
       "<div>\n",
       "<style scoped>\n",
       "    .dataframe tbody tr th:only-of-type {\n",
       "        vertical-align: middle;\n",
       "    }\n",
       "\n",
       "    .dataframe tbody tr th {\n",
       "        vertical-align: top;\n",
       "    }\n",
       "\n",
       "    .dataframe thead th {\n",
       "        text-align: right;\n",
       "    }\n",
       "</style>\n",
       "<table border=\"1\" class=\"dataframe\">\n",
       "  <thead>\n",
       "    <tr style=\"text-align: right;\">\n",
       "      <th></th>\n",
       "      <th>SequenceNumber</th>\n",
       "      <th>InUse</th>\n",
       "      <th>ParentEntryNumber</th>\n",
       "      <th>ParentSequenceNumber</th>\n",
       "      <th>ParentPath</th>\n",
       "      <th>FileName</th>\n",
       "      <th>Extension</th>\n",
       "      <th>FileSize</th>\n",
       "      <th>ReferenceCount</th>\n",
       "      <th>ReparseTarget</th>\n",
       "      <th>IsDirectory</th>\n",
       "      <th>HasAds</th>\n",
       "      <th>IsAds</th>\n",
       "      <th>SI&lt;FN</th>\n",
       "      <th>uSecZeros</th>\n",
       "      <th>Copied</th>\n",
       "      <th>SiFlags</th>\n",
       "      <th>NameType</th>\n",
       "      <th>Created0x10</th>\n",
       "      <th>Created0x30</th>\n",
       "      <th>LastModified0x10</th>\n",
       "      <th>LastModified0x30</th>\n",
       "      <th>LastRecordChange0x10</th>\n",
       "      <th>LastRecordChange0x30</th>\n",
       "      <th>LastAccess0x10</th>\n",
       "      <th>LastAccess0x30</th>\n",
       "      <th>UpdateSequenceNumber</th>\n",
       "      <th>LogfileSequenceNumber</th>\n",
       "      <th>SecurityId</th>\n",
       "      <th>ObjectIdFileDroid</th>\n",
       "      <th>LoggedUtilStream</th>\n",
       "      <th>ZoneIdContents</th>\n",
       "    </tr>\n",
       "    <tr>\n",
       "      <th>EntryNumber</th>\n",
       "      <th></th>\n",
       "      <th></th>\n",
       "      <th></th>\n",
       "      <th></th>\n",
       "      <th></th>\n",
       "      <th></th>\n",
       "      <th></th>\n",
       "      <th></th>\n",
       "      <th></th>\n",
       "      <th></th>\n",
       "      <th></th>\n",
       "      <th></th>\n",
       "      <th></th>\n",
       "      <th></th>\n",
       "      <th></th>\n",
       "      <th></th>\n",
       "      <th></th>\n",
       "      <th></th>\n",
       "      <th></th>\n",
       "      <th></th>\n",
       "      <th></th>\n",
       "      <th></th>\n",
       "      <th></th>\n",
       "      <th></th>\n",
       "      <th></th>\n",
       "      <th></th>\n",
       "      <th></th>\n",
       "      <th></th>\n",
       "      <th></th>\n",
       "      <th></th>\n",
       "      <th></th>\n",
       "      <th></th>\n",
       "    </tr>\n",
       "  </thead>\n",
       "  <tbody>\n",
       "    <tr>\n",
       "      <th>110904</th>\n",
       "      <td>273</td>\n",
       "      <td>True</td>\n",
       "      <td>33365</td>\n",
       "      <td>146</td>\n",
       "      <td>.\\Temp</td>\n",
       "      <td>mm903fv092v33fj.ps1.3lvnvt</td>\n",
       "      <td>.3lvnvt</td>\n",
       "      <td>348539</td>\n",
       "      <td>1</td>\n",
       "      <td>NaN</td>\n",
       "      <td>False</td>\n",
       "      <td>False</td>\n",
       "      <td>False</td>\n",
       "      <td>False</td>\n",
       "      <td>False</td>\n",
       "      <td>False</td>\n",
       "      <td>Archive</td>\n",
       "      <td>Windows</td>\n",
       "      <td>2021-05-24 07:01:46.935530500</td>\n",
       "      <td>NaT</td>\n",
       "      <td>2021-05-24 07:04:24.860815800</td>\n",
       "      <td>NaT</td>\n",
       "      <td>2021-05-25 08:12:02.792699800</td>\n",
       "      <td>2021-05-24 07:04:24.896892400</td>\n",
       "      <td>2021-05-24 07:01:46.9355305</td>\n",
       "      <td>NaN</td>\n",
       "      <td>32523174816</td>\n",
       "      <td>183059500486</td>\n",
       "      <td>522</td>\n",
       "      <td>NaN</td>\n",
       "      <td>NaN</td>\n",
       "      <td>NaN</td>\n",
       "    </tr>\n",
       "    <tr>\n",
       "      <th>116957</th>\n",
       "      <td>537</td>\n",
       "      <td>True</td>\n",
       "      <td>33365</td>\n",
       "      <td>146</td>\n",
       "      <td>.\\Temp</td>\n",
       "      <td>mm903fv092v33fj.exe</td>\n",
       "      <td>.exe</td>\n",
       "      <td>124928</td>\n",
       "      <td>1</td>\n",
       "      <td>NaN</td>\n",
       "      <td>False</td>\n",
       "      <td>False</td>\n",
       "      <td>False</td>\n",
       "      <td>False</td>\n",
       "      <td>False</td>\n",
       "      <td>False</td>\n",
       "      <td>Archive</td>\n",
       "      <td>Windows</td>\n",
       "      <td>2021-05-24 07:09:45.756927300</td>\n",
       "      <td>NaT</td>\n",
       "      <td>2021-05-24 07:09:45.757932700</td>\n",
       "      <td>NaT</td>\n",
       "      <td>2021-05-25 08:12:02.777115200</td>\n",
       "      <td>2021-05-24 07:09:45.757932700</td>\n",
       "      <td>2021-05-24 07:09:45.7569273</td>\n",
       "      <td>NaN</td>\n",
       "      <td>32523174488</td>\n",
       "      <td>183059499899</td>\n",
       "      <td>522</td>\n",
       "      <td>NaN</td>\n",
       "      <td>NaN</td>\n",
       "      <td>NaN</td>\n",
       "    </tr>\n",
       "    <tr>\n",
       "      <th>117171</th>\n",
       "      <td>44</td>\n",
       "      <td>True</td>\n",
       "      <td>33365</td>\n",
       "      <td>146</td>\n",
       "      <td>.\\Temp</td>\n",
       "      <td>sender.exe</td>\n",
       "      <td>.exe</td>\n",
       "      <td>36352</td>\n",
       "      <td>1</td>\n",
       "      <td>NaN</td>\n",
       "      <td>False</td>\n",
       "      <td>False</td>\n",
       "      <td>False</td>\n",
       "      <td>False</td>\n",
       "      <td>False</td>\n",
       "      <td>False</td>\n",
       "      <td>Archive</td>\n",
       "      <td>DosWindows</td>\n",
       "      <td>2021-05-24 07:25:18.807582400</td>\n",
       "      <td>NaT</td>\n",
       "      <td>2021-05-24 07:25:18.808585400</td>\n",
       "      <td>NaT</td>\n",
       "      <td>2021-05-25 08:12:02.792699800</td>\n",
       "      <td>2021-05-24 07:25:18.808585400</td>\n",
       "      <td>2021-05-24 07:25:18.8075824</td>\n",
       "      <td>NaN</td>\n",
       "      <td>32523175784</td>\n",
       "      <td>183059502709</td>\n",
       "      <td>522</td>\n",
       "      <td>NaN</td>\n",
       "      <td>NaN</td>\n",
       "      <td>NaN</td>\n",
       "    </tr>\n",
       "    <tr>\n",
       "      <th>117178</th>\n",
       "      <td>57</td>\n",
       "      <td>True</td>\n",
       "      <td>106507</td>\n",
       "      <td>1</td>\n",
       "      <td>.\\Users\\user\\AppData\\Local\\Microsoft_Corpo...</td>\n",
       "      <td>PowerShell_ISE.exe_StrongName_lw2v2vm3wmtzzpeb...</td>\n",
       "      <td>NaN</td>\n",
       "      <td>0</td>\n",
       "      <td>1</td>\n",
       "      <td>NaN</td>\n",
       "      <td>True</td>\n",
       "      <td>False</td>\n",
       "      <td>False</td>\n",
       "      <td>False</td>\n",
       "      <td>False</td>\n",
       "      <td>False</td>\n",
       "      <td>None</td>\n",
       "      <td>Windows</td>\n",
       "      <td>2021-05-24 07:37:25.344780300</td>\n",
       "      <td>NaT</td>\n",
       "      <td>2021-05-24 07:37:25.345783800</td>\n",
       "      <td>2021-05-24 07:37:25.344780300</td>\n",
       "      <td>2021-05-25 08:12:25.573868400</td>\n",
       "      <td>2021-05-24 07:37:25.344780300</td>\n",
       "      <td>2021-05-24 07:37:25.3457838</td>\n",
       "      <td>2021-05-24 07:37:25.3447803</td>\n",
       "      <td>32524116232</td>\n",
       "      <td>183060749720</td>\n",
       "      <td>2072</td>\n",
       "      <td>NaN</td>\n",
       "      <td>NaN</td>\n",
       "      <td>NaN</td>\n",
       "    </tr>\n",
       "  </tbody>\n",
       "</table>\n",
       "</div>"
      ],
      "text/plain": [
       "             SequenceNumber  InUse  ParentEntryNumber  ParentSequenceNumber  \\\n",
       "EntryNumber                                                                   \n",
       "110904                  273   True              33365                   146   \n",
       "116957                  537   True              33365                   146   \n",
       "117171                   44   True              33365                   146   \n",
       "117178                   57   True             106507                     1   \n",
       "\n",
       "                                                    ParentPath  \\\n",
       "EntryNumber                                                      \n",
       "110904                                                .\\Temp   \n",
       "116957                                                .\\Temp   \n",
       "117171                                                .\\Temp   \n",
       "117178       .\\Users\\user\\AppData\\Local\\Microsoft_Corpo...   \n",
       "\n",
       "                                                      FileName Extension  \\\n",
       "EntryNumber                                                                \n",
       "110904                              mm903fv092v33fj.ps1.3lvnvt   .3lvnvt   \n",
       "116957                                     mm903fv092v33fj.exe      .exe   \n",
       "117171                                              sender.exe      .exe   \n",
       "117178       PowerShell_ISE.exe_StrongName_lw2v2vm3wmtzzpeb...       NaN   \n",
       "\n",
       "             FileSize  ReferenceCount ReparseTarget  IsDirectory  HasAds  \\\n",
       "EntryNumber                                                                \n",
       "110904         348539               1           NaN        False   False   \n",
       "116957         124928               1           NaN        False   False   \n",
       "117171          36352               1           NaN        False   False   \n",
       "117178              0               1           NaN         True   False   \n",
       "\n",
       "             IsAds  SI<FN  uSecZeros  Copied  SiFlags    NameType  \\\n",
       "EntryNumber                                                         \n",
       "110904       False  False      False   False  Archive     Windows   \n",
       "116957       False  False      False   False  Archive     Windows   \n",
       "117171       False  False      False   False  Archive  DosWindows   \n",
       "117178       False  False      False   False     None     Windows   \n",
       "\n",
       "                              Created0x10 Created0x30  \\\n",
       "EntryNumber                                             \n",
       "110904      2021-05-24 07:01:46.935530500         NaT   \n",
       "116957      2021-05-24 07:09:45.756927300         NaT   \n",
       "117171      2021-05-24 07:25:18.807582400         NaT   \n",
       "117178      2021-05-24 07:37:25.344780300         NaT   \n",
       "\n",
       "                         LastModified0x10              LastModified0x30  \\\n",
       "EntryNumber                                                               \n",
       "110904      2021-05-24 07:04:24.860815800                           NaT   \n",
       "116957      2021-05-24 07:09:45.757932700                           NaT   \n",
       "117171      2021-05-24 07:25:18.808585400                           NaT   \n",
       "117178      2021-05-24 07:37:25.345783800 2021-05-24 07:37:25.344780300   \n",
       "\n",
       "                     LastRecordChange0x10          LastRecordChange0x30  \\\n",
       "EntryNumber                                                               \n",
       "110904      2021-05-25 08:12:02.792699800 2021-05-24 07:04:24.896892400   \n",
       "116957      2021-05-25 08:12:02.777115200 2021-05-24 07:09:45.757932700   \n",
       "117171      2021-05-25 08:12:02.792699800 2021-05-24 07:25:18.808585400   \n",
       "117178      2021-05-25 08:12:25.573868400 2021-05-24 07:37:25.344780300   \n",
       "\n",
       "                          LastAccess0x10               LastAccess0x30  \\\n",
       "EntryNumber                                                             \n",
       "110904       2021-05-24 07:01:46.9355305                          NaN   \n",
       "116957       2021-05-24 07:09:45.7569273                          NaN   \n",
       "117171       2021-05-24 07:25:18.8075824                          NaN   \n",
       "117178       2021-05-24 07:37:25.3457838  2021-05-24 07:37:25.3447803   \n",
       "\n",
       "             UpdateSequenceNumber  LogfileSequenceNumber  SecurityId  \\\n",
       "EntryNumber                                                            \n",
       "110904                32523174816           183059500486         522   \n",
       "116957                32523174488           183059499899         522   \n",
       "117171                32523175784           183059502709         522   \n",
       "117178                32524116232           183060749720        2072   \n",
       "\n",
       "            ObjectIdFileDroid LoggedUtilStream ZoneIdContents  \n",
       "EntryNumber                                                    \n",
       "110904                    NaN              NaN            NaN  \n",
       "116957                    NaN              NaN            NaN  \n",
       "117171                    NaN              NaN            NaN  \n",
       "117178                    NaN              NaN            NaN  "
      ]
     },
     "execution_count": 27,
     "metadata": {},
     "output_type": "execute_result"
    }
   ],
   "source": [
    "files.head()"
   ]
  }
 ],
 "metadata": {
  "kernelspec": {
   "display_name": "Python 3",
   "language": "python",
   "name": "python3"
  },
  "language_info": {
   "codemirror_mode": {
    "name": "ipython",
    "version": 3
   },
   "file_extension": ".py",
   "mimetype": "text/x-python",
   "name": "python",
   "nbconvert_exporter": "python",
   "pygments_lexer": "ipython3",
   "version": "3.8.2"
  }
 },
 "nbformat": 4,
 "nbformat_minor": 5
}
